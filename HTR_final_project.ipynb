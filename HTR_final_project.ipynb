{
  "nbformat": 4,
  "nbformat_minor": 0,
  "metadata": {
    "colab": {
      "provenance": [],
      "machine_shape": "hm",
      "gpuType": "L4"
    },
    "kernelspec": {
      "name": "python3",
      "display_name": "Python 3"
    },
    "language_info": {
      "name": "python"
    },
    "accelerator": "GPU"
  },
  "cells": [
    {
      "cell_type": "markdown",
      "source": [
        "# HTR system using CRNN\n",
        "\n",
        ">CSC 8851\\\n",
        ">Final Project\\\n",
        ">Ana Costa, Srikar Pottabathula"
      ],
      "metadata": {
        "id": "fCpO4z2Ccx4w"
      }
    },
    {
      "cell_type": "markdown",
      "source": [
        "### Import Statements"
      ],
      "metadata": {
        "id": "xVVGPZwYczeW"
      }
    },
    {
      "cell_type": "code",
      "source": [
        "from google.colab import drive\n",
        "drive.mount('/content/drive', force_remount=True)\n",
        "\n",
        "import os\n",
        "import numpy as np\n",
        "import matplotlib.pyplot as plt\n",
        "from PIL import Image\n",
        "import tensorflow as tf\n",
        "from tensorflow import keras\n",
        "from tensorflow.keras import layers\n",
        "from tensorflow.keras.models import Model, load_model\n",
        "from sklearn.model_selection import train_test_split\n",
        "\n",
        "physical_devices = tf.config.list_physical_devices('GPU')\n",
        "if physical_devices:\n",
        "    try:\n",
        "        for device in physical_devices:\n",
        "            tf.config.experimental.set_memory_growth(device, True)\n",
        "        print(f\"Found {len(physical_devices)} GPU(s), memory growth enabled\")\n",
        "    except:\n",
        "        print(\"Memory growth setting failed\")\n",
        "else:\n",
        "    print(\"No GPU found, using CPU\")"
      ],
      "metadata": {
        "id": "PvZZKN15ddZS",
        "colab": {
          "base_uri": "https://localhost:8080/"
        },
        "outputId": "2ebd9bf6-70b6-4add-d5db-7a2ef3b78920"
      },
      "execution_count": null,
      "outputs": [
        {
          "output_type": "stream",
          "name": "stdout",
          "text": [
            "Mounted at /content/drive\n",
            "Found 1 GPU(s), memory growth enabled\n"
          ]
        }
      ]
    },
    {
      "cell_type": "markdown",
      "source": [
        "### Setting paths and loading text data"
      ],
      "metadata": {
        "id": "KdsAHXP5iSLC"
      }
    },
    {
      "cell_type": "code",
      "source": [
        "IMAGES_DIR = \"/content/drive/MyDrive/Colab Notebooks/CSC 8851/Final Project/images\"\n",
        "GT_FILE = \"/content/drive/MyDrive/Colab Notebooks/CSC 8851/Final Project/gt_test.txt\"\n",
        "MODEL_DIR = \"/content/drive/MyDrive/Colab Notebooks/CSC 8851/Final Project/saved_base_models\"\n",
        "Custom_TEST_DIR = \"/content/drive/MyDrive/Colab Notebooks/CSC 8851/Final Project/personal_test_images\"\n",
        "BATCH_SIZE = 16\n",
        "EPOCHS     = 30\n",
        "LEARNING_RATE = 1e-3\n",
        "\n",
        "# parse Ground Truth file\n",
        "filenames, texts = [], []\n",
        "with open(GT_FILE, 'r', encoding='utf-8') as f:\n",
        "    for line in f:\n",
        "        fname, txt = line.strip().split('\\t')\n",
        "        filenames.append(os.path.join(IMAGES_DIR, fname))\n",
        "        texts.append(txt)\n",
        "\n",
        "# collect unique characters\n",
        "charset = set(char for txt in texts for char in txt)\n",
        "# sort to have deterministic mapping\n",
        "charset = sorted(charset)\n",
        "# CTC 'blank' token will be appended at end of index list\n",
        "char_to_num = {ch:i for i,ch in enumerate(charset)}\n",
        "num_to_char = {i:ch for ch,i in char_to_num.items()}\n",
        "BLANK_IDX = len(charset)  # for CTC blank\n",
        "NUM_CLASSES = len(charset) + 1\n",
        "\n",
        "print(f\"Detected {len(filenames)} samples, charset size={len(charset)} (+blank).\")"
      ],
      "metadata": {
        "id": "D-Zqpb1WiWRX",
        "colab": {
          "base_uri": "https://localhost:8080/"
        },
        "outputId": "410cfe64-b402-4ca7-97e4-80415ab82a78"
      },
      "execution_count": null,
      "outputs": [
        {
          "output_type": "stream",
          "name": "stdout",
          "text": [
            "Detected 2915 samples, charset size=75 (+blank).\n"
          ]
        }
      ]
    },
    {
      "cell_type": "markdown",
      "source": [
        "### Computing image height and max wdth"
      ],
      "metadata": {
        "id": "1-wz4o6mhzrt"
      }
    },
    {
      "cell_type": "code",
      "source": [
        "# since all images share same height, read first to get H;\n",
        "# then scan all for max width W\n",
        "H = None\n",
        "max_W = 0\n",
        "for p in filenames:\n",
        "    img = Image.open(p).convert('L')\n",
        "    w,h = img.size\n",
        "    if H is None:\n",
        "        H = h\n",
        "    if w > max_W:\n",
        "        max_W = w\n",
        "max_W = ((max_W + 3)//4)*4\n",
        "\n",
        "print(f\"Using image height={H}, padded max width={max_W}\")"
      ],
      "metadata": {
        "colab": {
          "base_uri": "https://localhost:8080/"
        },
        "id": "az8iE8msh66P",
        "outputId": "a6946661-08a2-413b-9843-2552fcb45c77"
      },
      "execution_count": null,
      "outputs": [
        {
          "output_type": "stream",
          "name": "stdout",
          "text": [
            "Using image height=128, padded max width=4348\n"
          ]
        }
      ]
    },
    {
      "cell_type": "markdown",
      "source": [
        "### Preprocessing functions"
      ],
      "metadata": {
        "id": "2DDUJZUgiUbF"
      }
    },
    {
      "cell_type": "code",
      "source": [
        "def preprocess_image(path):\n",
        "    \"\"\"Load image, pad to (H, max_W), normalize to [0,1].\"\"\"\n",
        "    if isinstance(path, tf.Tensor):\n",
        "        path = path.numpy().decode('utf-8')\n",
        "    elif isinstance(txt, (bytes, bytearray)):\n",
        "        path = path.decode('utf-8')\n",
        "    else:\n",
        "        path = str(path)\n",
        "\n",
        "    img = Image.open(path).convert('L')\n",
        "    arr = np.array(img, dtype=np.float32) / 255.0\n",
        "\n",
        "    h, w = arr.shape\n",
        "    pad_width = max_W - w\n",
        "    if pad_width > 0:\n",
        "        arr = np.pad(arr, ((0,0),(0,pad_width)), constant_values=1.0)\n",
        "    else:\n",
        "        arr = arr[:, :max_W]\n",
        "\n",
        "    arr = arr[..., np.newaxis]\n",
        "    return arr\n",
        "\n",
        "def encode_label(txt):\n",
        "    if isinstance(txt, tf.Tensor):\n",
        "        s = txt.numpy().decode('utf-8')\n",
        "    elif isinstance(txt, (bytes, bytearray)):\n",
        "        s = txt.decode('utf-8')\n",
        "    else:\n",
        "        s = str(txt)\n",
        "\n",
        "    # build the label array, skipping any unknown chars\n",
        "    labels = []\n",
        "    for c in s:\n",
        "        if c in char_to_num:\n",
        "            labels.append(char_to_num[c])\n",
        "        else:\n",
        "            continue\n",
        "\n",
        "    return np.array(labels, dtype=np.int32)\n",
        "\n",
        "def tf_preprocess(path, txt):\n",
        "    # load image\n",
        "    img = tf.py_function(preprocess_image, inp=[path], Tout=tf.float32)\n",
        "    img.set_shape([H, max_W, 1])\n",
        "\n",
        "    # encode label\n",
        "    lbl = tf.py_function(encode_label, inp=[txt], Tout=tf.int32)\n",
        "    lbl.set_shape([None])\n",
        "\n",
        "    input_len = tf.cast(max_W // 4, tf.int32)\n",
        "    label_len = tf.shape(lbl)[0]\n",
        "\n",
        "    return {\n",
        "      'img': img,\n",
        "      'label': lbl,\n",
        "      'input_len': input_len,\n",
        "      'label_len': label_len\n",
        "    }"
      ],
      "metadata": {
        "id": "G-gjYeASiYnp"
      },
      "execution_count": null,
      "outputs": []
    },
    {
      "cell_type": "markdown",
      "source": [
        "### Split data for training, testing, and validation"
      ],
      "metadata": {
        "id": "RfujdPdqlONn"
      }
    },
    {
      "cell_type": "code",
      "source": [
        "def make_dataset(paths, texts, shuffle=True):\n",
        "    ds = tf.data.Dataset.from_tensor_slices((paths, texts))\n",
        "    if shuffle:\n",
        "        ds = ds.shuffle(len(paths))\n",
        "    ds = ds.map(tf_preprocess, num_parallel_calls=tf.data.AUTOTUNE)\n",
        "    ds = ds.padded_batch(BATCH_SIZE,\n",
        "                         padded_shapes={\n",
        "                             'img': [H, max_W, 1],\n",
        "                             'label': [None],\n",
        "                             'input_len': [],\n",
        "                             'label_len': []\n",
        "                         },\n",
        "                         padding_values={\n",
        "                             'img': 1.0,\n",
        "                             'label': 0,\n",
        "                             'input_len': 0,\n",
        "                             'label_len': 0\n",
        "                         })\n",
        "    return ds.prefetch(tf.data.AUTOTUNE)\n",
        "\n",
        "# train/test/val split: 81%/10%/9%\n",
        "train_paths, test_paths, train_texts, test_texts = train_test_split(\n",
        "    filenames, texts, test_size=0.10, random_state=35, shuffle=True)\n",
        "train_paths, val_paths, train_texts, val_texts = train_test_split(\n",
        "    train_paths, train_texts, test_size=0.10, random_state=35, shuffle=True)\n",
        "\n",
        "train_ds = make_dataset(train_paths, train_texts, shuffle=True)\n",
        "val_ds   = make_dataset(val_paths,   val_texts,   shuffle=False)\n",
        "test_ds  = make_dataset(test_paths,  test_texts,  shuffle=False)\n",
        "\n",
        "print(f\"Train/Val/Test sizes: {len(train_paths)}/{len(val_paths)}/{len(test_paths)}\")"
      ],
      "metadata": {
        "colab": {
          "base_uri": "https://localhost:8080/"
        },
        "id": "DX37yI2ZlRXw",
        "outputId": "84529caa-1332-42cb-9ade-d9bdb65f6c13"
      },
      "execution_count": null,
      "outputs": [
        {
          "output_type": "stream",
          "name": "stdout",
          "text": [
            "Train/Val/Test sizes: 2360/263/292\n"
          ]
        }
      ]
    },
    {
      "cell_type": "markdown",
      "source": [
        "### Predict Function"
      ],
      "metadata": {
        "id": "-yv0qxjZPevG"
      }
    },
    {
      "cell_type": "code",
      "source": [
        "def predict_image(model, img_path):\n",
        "    \"\"\"Run model on single image and decode with greedy CTC.\"\"\"\n",
        "    arr = preprocess_image(img_path)\n",
        "    arr = np.expand_dims(arr, 0)\n",
        "    y_pred = model.predict(arr, verbose=0)\n",
        "\n",
        "    input_len = np.array([max_W//4], dtype=np.int32)\n",
        "    decoded = tf.keras.backend.ctc_decode(\n",
        "        y_pred, input_length=input_len, greedy=True\n",
        "    )[0][0].numpy()\n",
        "\n",
        "    # map to chars, skip blanks\n",
        "    chars = []\n",
        "    for idx in decoded[0]:\n",
        "        if idx < 0 or idx == BLANK_IDX:\n",
        "            continue\n",
        "        chars.append(num_to_char[idx])\n",
        "    pred = ''.join(chars)\n",
        "    pred_text = pred.replace(\"tf.Tensor(b'\", \"\").replace(\"', shape(), dtypestring)\", \"\")\n",
        "\n",
        "    return pred_text\n",
        "\n",
        "# Example usage:\n",
        "# print(predict_image(model, 'images/c04-134-03.jpg'))"
      ],
      "metadata": {
        "id": "gs5UDqr1PgzO"
      },
      "execution_count": null,
      "outputs": []
    },
    {
      "cell_type": "markdown",
      "source": [
        "### Evaluation Metrics"
      ],
      "metadata": {
        "id": "5jodIxbULSC1"
      }
    },
    {
      "cell_type": "code",
      "source": [
        "def levenshtein(a, b):\n",
        "    \"\"\"Classic Wagner–Fischer DP; works on lists or strings.\"\"\"\n",
        "    # if you pass strings, it will iterate chars; if you pass lists, elements\n",
        "    n, m = len(a), len(b)\n",
        "    if n == 0: return m\n",
        "    if m == 0: return n\n",
        "    # create distance matrix\n",
        "    dp = [[0]*(m+1) for _ in range(n+1)]\n",
        "    for i in range(n+1): dp[i][0] = i\n",
        "    for j in range(m+1): dp[0][j] = j\n",
        "    for i in range(1, n+1):\n",
        "        for j in range(1, m+1):\n",
        "            cost = 0 if a[i-1] == b[j-1] else 1\n",
        "            dp[i][j] = min(\n",
        "                dp[i-1][j] + 1,      # deletion\n",
        "                dp[i][j-1] + 1,      # insertion\n",
        "                dp[i-1][j-1] + cost  # substitution\n",
        "            )\n",
        "    return dp[n][m]\n",
        "\n",
        "def cer(ref, hyp):\n",
        "    \"\"\"Character Error Rate = edit distance over characters, normalized by len(ref).\"\"\"\n",
        "    ref_chars = list(ref)\n",
        "    hyp_chars = list(hyp)\n",
        "    if len(ref_chars) == 0:\n",
        "        return float(len(hyp_chars))\n",
        "    return levenshtein(ref_chars, hyp_chars) / len(ref_chars)\n",
        "\n",
        "def wer(ref, hyp):\n",
        "    \"\"\"Word Error Rate = edit distance over words, normalized by number of words in ref.\"\"\"\n",
        "    ref_words = ref.split()\n",
        "    hyp_words = hyp.split()\n",
        "    if len(ref_words) == 0:\n",
        "        return float(len(hyp_words))\n",
        "    return levenshtein(ref_words, hyp_words) / len(ref_words)"
      ],
      "metadata": {
        "id": "D6hhoGeRLaEc"
      },
      "execution_count": null,
      "outputs": []
    },
    {
      "cell_type": "markdown",
      "source": [
        "### Training and Validation step functions"
      ],
      "metadata": {
        "id": "xqIbfUjER-nM"
      }
    },
    {
      "cell_type": "code",
      "source": [
        "@tf.function\n",
        "def train_step(batch):\n",
        "    imgs = batch['img']\n",
        "    labels = batch['label']\n",
        "    input_len = tf.fill([tf.shape(imgs)[0]], tf.cast(max_W//4, tf.int32))\n",
        "    label_len = batch['label_len']\n",
        "\n",
        "    # **CRUCIAL**: expand dims so they become (batch,1)\n",
        "    input_len  = tf.expand_dims(input_len, axis=1)\n",
        "    label_len  = tf.expand_dims(label_len, axis=1)\n",
        "\n",
        "    with tf.GradientTape() as tape:\n",
        "        y_pred = model(imgs, training=True)  # (batch, T, num_classes)\n",
        "        # compute CTC loss (per-batch)\n",
        "        loss = tf.reduce_mean(\n",
        "            tf.keras.backend.ctc_batch_cost(labels, y_pred, input_len, label_len)\n",
        "        )\n",
        "    grads = tape.gradient(loss, model.trainable_variables)\n",
        "    optimizer.apply_gradients(zip(grads, model.trainable_variables))\n",
        "    return loss\n",
        "\n",
        "@tf.function\n",
        "def val_step(batch):\n",
        "    imgs = batch['img']\n",
        "    labels = batch['label']\n",
        "    input_len = tf.fill([tf.shape(imgs)[0]], tf.cast(max_W//4, tf.int32))\n",
        "    label_len = batch['label_len']\n",
        "\n",
        "    # **CRUCIAL**: expand dims so they become (batch,1)\n",
        "    input_len  = tf.expand_dims(input_len, axis=1)\n",
        "    label_len  = tf.expand_dims(label_len, axis=1)\n",
        "\n",
        "    y_pred = model(imgs, training=False)\n",
        "    loss = tf.reduce_mean(\n",
        "        tf.keras.backend.ctc_batch_cost(labels, y_pred, input_len, label_len)\n",
        "    )\n",
        "    return loss"
      ],
      "metadata": {
        "id": "lhQ_BQFJSBef"
      },
      "execution_count": null,
      "outputs": []
    },
    {
      "cell_type": "markdown",
      "source": [
        "### Building the model (without Attention)"
      ],
      "metadata": {
        "id": "eL3C622ilgp8"
      }
    },
    {
      "cell_type": "code",
      "source": [
        "def build_model():\n",
        "    input_img = layers.Input(shape=(H, max_W, 1), name='img')\n",
        "\n",
        "    # 5×Conv2D + pooling (height & width reduction by 4 total on width)\n",
        "    x = input_img\n",
        "    for i, (filt, pool) in enumerate(zip([16,32,64,128,128],\n",
        "                                         [(2,2),(2,2),(2,1),(2,1),(2,1)])):\n",
        "        x = layers.Conv2D(filt, (3,3), padding='same', activation='relu')(x)\n",
        "        x = layers.MaxPooling2D(pool)(x)\n",
        "    # at this point: x.shape = (batch, H/32, max_W/4, 128)\n",
        "\n",
        "    # collapse height and channel dims into features\n",
        "    shape = x.shape\n",
        "    # Permute to (batch, time_steps, features)\n",
        "    # time_steps corresponds to width axis\n",
        "    x = layers.Permute((2,1,3))(x)  # now: (batch, W', H', C)\n",
        "    x = layers.Reshape((shape[2], shape[1]*shape[3]))(x)  # (batch, W', H'*C)\n",
        "\n",
        "    # 2×Bidirectional LSTM\n",
        "    x = layers.Bidirectional(layers.LSTM(256, return_sequences=True))(x)\n",
        "    x = layers.Bidirectional(layers.LSTM(256, return_sequences=True))(x)\n",
        "\n",
        "    # output layer\n",
        "    y_pred = layers.Dense(NUM_CLASSES, activation='softmax')(x)\n",
        "\n",
        "    return Model(inputs=input_img, outputs=y_pred)\n",
        "\n",
        "temp_model = build_model()\n",
        "temp_model.summary()"
      ],
      "metadata": {
        "colab": {
          "base_uri": "https://localhost:8080/",
          "height": 667
        },
        "id": "ZoR5lamelkPv",
        "outputId": "6f7e36e6-25ea-48c5-c5b5-f93c1a210be6"
      },
      "execution_count": null,
      "outputs": [
        {
          "output_type": "display_data",
          "data": {
            "text/plain": [
              "\u001b[1mModel: \"functional\"\u001b[0m\n"
            ],
            "text/html": [
              "<pre style=\"white-space:pre;overflow-x:auto;line-height:normal;font-family:Menlo,'DejaVu Sans Mono',consolas,'Courier New',monospace\"><span style=\"font-weight: bold\">Model: \"functional\"</span>\n",
              "</pre>\n"
            ]
          },
          "metadata": {}
        },
        {
          "output_type": "display_data",
          "data": {
            "text/plain": [
              "┏━━━━━━━━━━━━━━━━━━━━━━━━━━━━━━━━━┳━━━━━━━━━━━━━━━━━━━━━━━━┳━━━━━━━━━━━━━━━┓\n",
              "┃\u001b[1m \u001b[0m\u001b[1mLayer (type)                   \u001b[0m\u001b[1m \u001b[0m┃\u001b[1m \u001b[0m\u001b[1mOutput Shape          \u001b[0m\u001b[1m \u001b[0m┃\u001b[1m \u001b[0m\u001b[1m      Param #\u001b[0m\u001b[1m \u001b[0m┃\n",
              "┡━━━━━━━━━━━━━━━━━━━━━━━━━━━━━━━━━╇━━━━━━━━━━━━━━━━━━━━━━━━╇━━━━━━━━━━━━━━━┩\n",
              "│ img (\u001b[38;5;33mInputLayer\u001b[0m)                │ (\u001b[38;5;45mNone\u001b[0m, \u001b[38;5;34m128\u001b[0m, \u001b[38;5;34m4348\u001b[0m, \u001b[38;5;34m1\u001b[0m)   │             \u001b[38;5;34m0\u001b[0m │\n",
              "├─────────────────────────────────┼────────────────────────┼───────────────┤\n",
              "│ conv2d (\u001b[38;5;33mConv2D\u001b[0m)                 │ (\u001b[38;5;45mNone\u001b[0m, \u001b[38;5;34m128\u001b[0m, \u001b[38;5;34m4348\u001b[0m, \u001b[38;5;34m16\u001b[0m)  │           \u001b[38;5;34m160\u001b[0m │\n",
              "├─────────────────────────────────┼────────────────────────┼───────────────┤\n",
              "│ max_pooling2d (\u001b[38;5;33mMaxPooling2D\u001b[0m)    │ (\u001b[38;5;45mNone\u001b[0m, \u001b[38;5;34m64\u001b[0m, \u001b[38;5;34m2174\u001b[0m, \u001b[38;5;34m16\u001b[0m)   │             \u001b[38;5;34m0\u001b[0m │\n",
              "├─────────────────────────────────┼────────────────────────┼───────────────┤\n",
              "│ conv2d_1 (\u001b[38;5;33mConv2D\u001b[0m)               │ (\u001b[38;5;45mNone\u001b[0m, \u001b[38;5;34m64\u001b[0m, \u001b[38;5;34m2174\u001b[0m, \u001b[38;5;34m32\u001b[0m)   │         \u001b[38;5;34m4,640\u001b[0m │\n",
              "├─────────────────────────────────┼────────────────────────┼───────────────┤\n",
              "│ max_pooling2d_1 (\u001b[38;5;33mMaxPooling2D\u001b[0m)  │ (\u001b[38;5;45mNone\u001b[0m, \u001b[38;5;34m32\u001b[0m, \u001b[38;5;34m1087\u001b[0m, \u001b[38;5;34m32\u001b[0m)   │             \u001b[38;5;34m0\u001b[0m │\n",
              "├─────────────────────────────────┼────────────────────────┼───────────────┤\n",
              "│ conv2d_2 (\u001b[38;5;33mConv2D\u001b[0m)               │ (\u001b[38;5;45mNone\u001b[0m, \u001b[38;5;34m32\u001b[0m, \u001b[38;5;34m1087\u001b[0m, \u001b[38;5;34m64\u001b[0m)   │        \u001b[38;5;34m18,496\u001b[0m │\n",
              "├─────────────────────────────────┼────────────────────────┼───────────────┤\n",
              "│ max_pooling2d_2 (\u001b[38;5;33mMaxPooling2D\u001b[0m)  │ (\u001b[38;5;45mNone\u001b[0m, \u001b[38;5;34m16\u001b[0m, \u001b[38;5;34m1087\u001b[0m, \u001b[38;5;34m64\u001b[0m)   │             \u001b[38;5;34m0\u001b[0m │\n",
              "├─────────────────────────────────┼────────────────────────┼───────────────┤\n",
              "│ conv2d_3 (\u001b[38;5;33mConv2D\u001b[0m)               │ (\u001b[38;5;45mNone\u001b[0m, \u001b[38;5;34m16\u001b[0m, \u001b[38;5;34m1087\u001b[0m, \u001b[38;5;34m128\u001b[0m)  │        \u001b[38;5;34m73,856\u001b[0m │\n",
              "├─────────────────────────────────┼────────────────────────┼───────────────┤\n",
              "│ max_pooling2d_3 (\u001b[38;5;33mMaxPooling2D\u001b[0m)  │ (\u001b[38;5;45mNone\u001b[0m, \u001b[38;5;34m8\u001b[0m, \u001b[38;5;34m1087\u001b[0m, \u001b[38;5;34m128\u001b[0m)   │             \u001b[38;5;34m0\u001b[0m │\n",
              "├─────────────────────────────────┼────────────────────────┼───────────────┤\n",
              "│ conv2d_4 (\u001b[38;5;33mConv2D\u001b[0m)               │ (\u001b[38;5;45mNone\u001b[0m, \u001b[38;5;34m8\u001b[0m, \u001b[38;5;34m1087\u001b[0m, \u001b[38;5;34m128\u001b[0m)   │       \u001b[38;5;34m147,584\u001b[0m │\n",
              "├─────────────────────────────────┼────────────────────────┼───────────────┤\n",
              "│ max_pooling2d_4 (\u001b[38;5;33mMaxPooling2D\u001b[0m)  │ (\u001b[38;5;45mNone\u001b[0m, \u001b[38;5;34m4\u001b[0m, \u001b[38;5;34m1087\u001b[0m, \u001b[38;5;34m128\u001b[0m)   │             \u001b[38;5;34m0\u001b[0m │\n",
              "├─────────────────────────────────┼────────────────────────┼───────────────┤\n",
              "│ permute (\u001b[38;5;33mPermute\u001b[0m)               │ (\u001b[38;5;45mNone\u001b[0m, \u001b[38;5;34m1087\u001b[0m, \u001b[38;5;34m4\u001b[0m, \u001b[38;5;34m128\u001b[0m)   │             \u001b[38;5;34m0\u001b[0m │\n",
              "├─────────────────────────────────┼────────────────────────┼───────────────┤\n",
              "│ reshape (\u001b[38;5;33mReshape\u001b[0m)               │ (\u001b[38;5;45mNone\u001b[0m, \u001b[38;5;34m1087\u001b[0m, \u001b[38;5;34m512\u001b[0m)      │             \u001b[38;5;34m0\u001b[0m │\n",
              "├─────────────────────────────────┼────────────────────────┼───────────────┤\n",
              "│ bidirectional (\u001b[38;5;33mBidirectional\u001b[0m)   │ (\u001b[38;5;45mNone\u001b[0m, \u001b[38;5;34m1087\u001b[0m, \u001b[38;5;34m512\u001b[0m)      │     \u001b[38;5;34m1,574,912\u001b[0m │\n",
              "├─────────────────────────────────┼────────────────────────┼───────────────┤\n",
              "│ bidirectional_1 (\u001b[38;5;33mBidirectional\u001b[0m) │ (\u001b[38;5;45mNone\u001b[0m, \u001b[38;5;34m1087\u001b[0m, \u001b[38;5;34m512\u001b[0m)      │     \u001b[38;5;34m1,574,912\u001b[0m │\n",
              "├─────────────────────────────────┼────────────────────────┼───────────────┤\n",
              "│ dense (\u001b[38;5;33mDense\u001b[0m)                   │ (\u001b[38;5;45mNone\u001b[0m, \u001b[38;5;34m1087\u001b[0m, \u001b[38;5;34m76\u001b[0m)       │        \u001b[38;5;34m38,988\u001b[0m │\n",
              "└─────────────────────────────────┴────────────────────────┴───────────────┘\n"
            ],
            "text/html": [
              "<pre style=\"white-space:pre;overflow-x:auto;line-height:normal;font-family:Menlo,'DejaVu Sans Mono',consolas,'Courier New',monospace\">┏━━━━━━━━━━━━━━━━━━━━━━━━━━━━━━━━━┳━━━━━━━━━━━━━━━━━━━━━━━━┳━━━━━━━━━━━━━━━┓\n",
              "┃<span style=\"font-weight: bold\"> Layer (type)                    </span>┃<span style=\"font-weight: bold\"> Output Shape           </span>┃<span style=\"font-weight: bold\">       Param # </span>┃\n",
              "┡━━━━━━━━━━━━━━━━━━━━━━━━━━━━━━━━━╇━━━━━━━━━━━━━━━━━━━━━━━━╇━━━━━━━━━━━━━━━┩\n",
              "│ img (<span style=\"color: #0087ff; text-decoration-color: #0087ff\">InputLayer</span>)                │ (<span style=\"color: #00d7ff; text-decoration-color: #00d7ff\">None</span>, <span style=\"color: #00af00; text-decoration-color: #00af00\">128</span>, <span style=\"color: #00af00; text-decoration-color: #00af00\">4348</span>, <span style=\"color: #00af00; text-decoration-color: #00af00\">1</span>)   │             <span style=\"color: #00af00; text-decoration-color: #00af00\">0</span> │\n",
              "├─────────────────────────────────┼────────────────────────┼───────────────┤\n",
              "│ conv2d (<span style=\"color: #0087ff; text-decoration-color: #0087ff\">Conv2D</span>)                 │ (<span style=\"color: #00d7ff; text-decoration-color: #00d7ff\">None</span>, <span style=\"color: #00af00; text-decoration-color: #00af00\">128</span>, <span style=\"color: #00af00; text-decoration-color: #00af00\">4348</span>, <span style=\"color: #00af00; text-decoration-color: #00af00\">16</span>)  │           <span style=\"color: #00af00; text-decoration-color: #00af00\">160</span> │\n",
              "├─────────────────────────────────┼────────────────────────┼───────────────┤\n",
              "│ max_pooling2d (<span style=\"color: #0087ff; text-decoration-color: #0087ff\">MaxPooling2D</span>)    │ (<span style=\"color: #00d7ff; text-decoration-color: #00d7ff\">None</span>, <span style=\"color: #00af00; text-decoration-color: #00af00\">64</span>, <span style=\"color: #00af00; text-decoration-color: #00af00\">2174</span>, <span style=\"color: #00af00; text-decoration-color: #00af00\">16</span>)   │             <span style=\"color: #00af00; text-decoration-color: #00af00\">0</span> │\n",
              "├─────────────────────────────────┼────────────────────────┼───────────────┤\n",
              "│ conv2d_1 (<span style=\"color: #0087ff; text-decoration-color: #0087ff\">Conv2D</span>)               │ (<span style=\"color: #00d7ff; text-decoration-color: #00d7ff\">None</span>, <span style=\"color: #00af00; text-decoration-color: #00af00\">64</span>, <span style=\"color: #00af00; text-decoration-color: #00af00\">2174</span>, <span style=\"color: #00af00; text-decoration-color: #00af00\">32</span>)   │         <span style=\"color: #00af00; text-decoration-color: #00af00\">4,640</span> │\n",
              "├─────────────────────────────────┼────────────────────────┼───────────────┤\n",
              "│ max_pooling2d_1 (<span style=\"color: #0087ff; text-decoration-color: #0087ff\">MaxPooling2D</span>)  │ (<span style=\"color: #00d7ff; text-decoration-color: #00d7ff\">None</span>, <span style=\"color: #00af00; text-decoration-color: #00af00\">32</span>, <span style=\"color: #00af00; text-decoration-color: #00af00\">1087</span>, <span style=\"color: #00af00; text-decoration-color: #00af00\">32</span>)   │             <span style=\"color: #00af00; text-decoration-color: #00af00\">0</span> │\n",
              "├─────────────────────────────────┼────────────────────────┼───────────────┤\n",
              "│ conv2d_2 (<span style=\"color: #0087ff; text-decoration-color: #0087ff\">Conv2D</span>)               │ (<span style=\"color: #00d7ff; text-decoration-color: #00d7ff\">None</span>, <span style=\"color: #00af00; text-decoration-color: #00af00\">32</span>, <span style=\"color: #00af00; text-decoration-color: #00af00\">1087</span>, <span style=\"color: #00af00; text-decoration-color: #00af00\">64</span>)   │        <span style=\"color: #00af00; text-decoration-color: #00af00\">18,496</span> │\n",
              "├─────────────────────────────────┼────────────────────────┼───────────────┤\n",
              "│ max_pooling2d_2 (<span style=\"color: #0087ff; text-decoration-color: #0087ff\">MaxPooling2D</span>)  │ (<span style=\"color: #00d7ff; text-decoration-color: #00d7ff\">None</span>, <span style=\"color: #00af00; text-decoration-color: #00af00\">16</span>, <span style=\"color: #00af00; text-decoration-color: #00af00\">1087</span>, <span style=\"color: #00af00; text-decoration-color: #00af00\">64</span>)   │             <span style=\"color: #00af00; text-decoration-color: #00af00\">0</span> │\n",
              "├─────────────────────────────────┼────────────────────────┼───────────────┤\n",
              "│ conv2d_3 (<span style=\"color: #0087ff; text-decoration-color: #0087ff\">Conv2D</span>)               │ (<span style=\"color: #00d7ff; text-decoration-color: #00d7ff\">None</span>, <span style=\"color: #00af00; text-decoration-color: #00af00\">16</span>, <span style=\"color: #00af00; text-decoration-color: #00af00\">1087</span>, <span style=\"color: #00af00; text-decoration-color: #00af00\">128</span>)  │        <span style=\"color: #00af00; text-decoration-color: #00af00\">73,856</span> │\n",
              "├─────────────────────────────────┼────────────────────────┼───────────────┤\n",
              "│ max_pooling2d_3 (<span style=\"color: #0087ff; text-decoration-color: #0087ff\">MaxPooling2D</span>)  │ (<span style=\"color: #00d7ff; text-decoration-color: #00d7ff\">None</span>, <span style=\"color: #00af00; text-decoration-color: #00af00\">8</span>, <span style=\"color: #00af00; text-decoration-color: #00af00\">1087</span>, <span style=\"color: #00af00; text-decoration-color: #00af00\">128</span>)   │             <span style=\"color: #00af00; text-decoration-color: #00af00\">0</span> │\n",
              "├─────────────────────────────────┼────────────────────────┼───────────────┤\n",
              "│ conv2d_4 (<span style=\"color: #0087ff; text-decoration-color: #0087ff\">Conv2D</span>)               │ (<span style=\"color: #00d7ff; text-decoration-color: #00d7ff\">None</span>, <span style=\"color: #00af00; text-decoration-color: #00af00\">8</span>, <span style=\"color: #00af00; text-decoration-color: #00af00\">1087</span>, <span style=\"color: #00af00; text-decoration-color: #00af00\">128</span>)   │       <span style=\"color: #00af00; text-decoration-color: #00af00\">147,584</span> │\n",
              "├─────────────────────────────────┼────────────────────────┼───────────────┤\n",
              "│ max_pooling2d_4 (<span style=\"color: #0087ff; text-decoration-color: #0087ff\">MaxPooling2D</span>)  │ (<span style=\"color: #00d7ff; text-decoration-color: #00d7ff\">None</span>, <span style=\"color: #00af00; text-decoration-color: #00af00\">4</span>, <span style=\"color: #00af00; text-decoration-color: #00af00\">1087</span>, <span style=\"color: #00af00; text-decoration-color: #00af00\">128</span>)   │             <span style=\"color: #00af00; text-decoration-color: #00af00\">0</span> │\n",
              "├─────────────────────────────────┼────────────────────────┼───────────────┤\n",
              "│ permute (<span style=\"color: #0087ff; text-decoration-color: #0087ff\">Permute</span>)               │ (<span style=\"color: #00d7ff; text-decoration-color: #00d7ff\">None</span>, <span style=\"color: #00af00; text-decoration-color: #00af00\">1087</span>, <span style=\"color: #00af00; text-decoration-color: #00af00\">4</span>, <span style=\"color: #00af00; text-decoration-color: #00af00\">128</span>)   │             <span style=\"color: #00af00; text-decoration-color: #00af00\">0</span> │\n",
              "├─────────────────────────────────┼────────────────────────┼───────────────┤\n",
              "│ reshape (<span style=\"color: #0087ff; text-decoration-color: #0087ff\">Reshape</span>)               │ (<span style=\"color: #00d7ff; text-decoration-color: #00d7ff\">None</span>, <span style=\"color: #00af00; text-decoration-color: #00af00\">1087</span>, <span style=\"color: #00af00; text-decoration-color: #00af00\">512</span>)      │             <span style=\"color: #00af00; text-decoration-color: #00af00\">0</span> │\n",
              "├─────────────────────────────────┼────────────────────────┼───────────────┤\n",
              "│ bidirectional (<span style=\"color: #0087ff; text-decoration-color: #0087ff\">Bidirectional</span>)   │ (<span style=\"color: #00d7ff; text-decoration-color: #00d7ff\">None</span>, <span style=\"color: #00af00; text-decoration-color: #00af00\">1087</span>, <span style=\"color: #00af00; text-decoration-color: #00af00\">512</span>)      │     <span style=\"color: #00af00; text-decoration-color: #00af00\">1,574,912</span> │\n",
              "├─────────────────────────────────┼────────────────────────┼───────────────┤\n",
              "│ bidirectional_1 (<span style=\"color: #0087ff; text-decoration-color: #0087ff\">Bidirectional</span>) │ (<span style=\"color: #00d7ff; text-decoration-color: #00d7ff\">None</span>, <span style=\"color: #00af00; text-decoration-color: #00af00\">1087</span>, <span style=\"color: #00af00; text-decoration-color: #00af00\">512</span>)      │     <span style=\"color: #00af00; text-decoration-color: #00af00\">1,574,912</span> │\n",
              "├─────────────────────────────────┼────────────────────────┼───────────────┤\n",
              "│ dense (<span style=\"color: #0087ff; text-decoration-color: #0087ff\">Dense</span>)                   │ (<span style=\"color: #00d7ff; text-decoration-color: #00d7ff\">None</span>, <span style=\"color: #00af00; text-decoration-color: #00af00\">1087</span>, <span style=\"color: #00af00; text-decoration-color: #00af00\">76</span>)       │        <span style=\"color: #00af00; text-decoration-color: #00af00\">38,988</span> │\n",
              "└─────────────────────────────────┴────────────────────────┴───────────────┘\n",
              "</pre>\n"
            ]
          },
          "metadata": {}
        },
        {
          "output_type": "display_data",
          "data": {
            "text/plain": [
              "\u001b[1m Total params: \u001b[0m\u001b[38;5;34m3,433,548\u001b[0m (13.10 MB)\n"
            ],
            "text/html": [
              "<pre style=\"white-space:pre;overflow-x:auto;line-height:normal;font-family:Menlo,'DejaVu Sans Mono',consolas,'Courier New',monospace\"><span style=\"font-weight: bold\"> Total params: </span><span style=\"color: #00af00; text-decoration-color: #00af00\">3,433,548</span> (13.10 MB)\n",
              "</pre>\n"
            ]
          },
          "metadata": {}
        },
        {
          "output_type": "display_data",
          "data": {
            "text/plain": [
              "\u001b[1m Trainable params: \u001b[0m\u001b[38;5;34m3,433,548\u001b[0m (13.10 MB)\n"
            ],
            "text/html": [
              "<pre style=\"white-space:pre;overflow-x:auto;line-height:normal;font-family:Menlo,'DejaVu Sans Mono',consolas,'Courier New',monospace\"><span style=\"font-weight: bold\"> Trainable params: </span><span style=\"color: #00af00; text-decoration-color: #00af00\">3,433,548</span> (13.10 MB)\n",
              "</pre>\n"
            ]
          },
          "metadata": {}
        },
        {
          "output_type": "display_data",
          "data": {
            "text/plain": [
              "\u001b[1m Non-trainable params: \u001b[0m\u001b[38;5;34m0\u001b[0m (0.00 B)\n"
            ],
            "text/html": [
              "<pre style=\"white-space:pre;overflow-x:auto;line-height:normal;font-family:Menlo,'DejaVu Sans Mono',consolas,'Courier New',monospace\"><span style=\"font-weight: bold\"> Non-trainable params: </span><span style=\"color: #00af00; text-decoration-color: #00af00\">0</span> (0.00 B)\n",
              "</pre>\n"
            ]
          },
          "metadata": {}
        }
      ]
    },
    {
      "cell_type": "markdown",
      "source": [
        "### Custom Training loop with CTC loss"
      ],
      "metadata": {
        "id": "ni9IuYEil6sf"
      }
    },
    {
      "cell_type": "code",
      "source": [
        "# hyperparameters\n",
        "EPOCHS = 20\n",
        "LEARNING_RATE = 1e-3\n",
        "\n",
        "# optimizer\n",
        "lr_schedule = tf.keras.optimizers.schedules.PolynomialDecay(\n",
        "    initial_learning_rate=LEARNING_RATE,\n",
        "    decay_steps=EPOCHS,\n",
        "    end_learning_rate=5e-4\n",
        ")\n",
        "optimizer = tf.keras.optimizers.Adam(\n",
        "    learning_rate=lr_schedule,\n",
        "    clipnorm=1.0\n",
        ")\n",
        "\n",
        "# Build model\n",
        "model = build_model()\n",
        "model.compile(optimizer=optimizer)\n",
        "\n",
        "# Training loop\n",
        "# containers to track over epochs\n",
        "cer_vals = []\n",
        "wer_vals = []\n",
        "train_losses = []\n",
        "val_losses = []\n",
        "\n",
        "for epoch in range(1, EPOCHS+1):\n",
        "    # train\n",
        "    total_loss = 0.0\n",
        "    batches = 0\n",
        "    for batch in train_ds:\n",
        "        total_loss += train_step(batch)\n",
        "        batches += 1\n",
        "    train_loss = total_loss / batches\n",
        "\n",
        "    # validate\n",
        "    total_vloss = 0.0\n",
        "    vbatches = 0\n",
        "    for batch in val_ds:\n",
        "        total_vloss += val_step(batch)\n",
        "        vbatches += 1\n",
        "    val_loss = total_vloss / vbatches\n",
        "\n",
        "    train_losses.append(train_loss.numpy())\n",
        "    val_losses.append(val_loss.numpy())\n",
        "    print(f\"Epoch {epoch}/{EPOCHS}: train_loss={train_loss:.4f}, val_loss={val_loss:.4f}\")\n",
        "\n",
        "    # compute CER & WER on validation set\n",
        "    total_cer = 0.0\n",
        "    total_wer = 0.0\n",
        "    for img_path, gt in zip(val_paths, val_texts):\n",
        "        pred = predict_image(model, img_path)\n",
        "        total_cer += cer(gt, pred)\n",
        "        total_wer += wer(gt, pred)\n",
        "    avg_cer = total_cer / len(val_paths)\n",
        "    avg_wer = total_wer / len(val_paths)\n",
        "\n",
        "    cer_vals.append(avg_cer)\n",
        "    wer_vals.append(avg_wer)\n",
        "\n",
        "    print(f\"            val_CER={avg_cer:.4f}, val_WER={avg_wer:.4f}\")\n",
        "\n",
        "model_file = \"model_04.keras\"\n",
        "model_path = os.path.join(MODEL_DIR, model_file)\n",
        "model.save(model_path)"
      ],
      "metadata": {
        "colab": {
          "base_uri": "https://localhost:8080/"
        },
        "id": "Z8hwg4W6mDh9",
        "outputId": "c6a032f3-92dd-4711-cce8-f407bf726eeb"
      },
      "execution_count": null,
      "outputs": [
        {
          "output_type": "stream",
          "name": "stderr",
          "text": [
            "WARNING:tensorflow:5 out of the last 5 calls to <function train_step at 0x7fdba6925da0> triggered tf.function retracing. Tracing is expensive and the excessive number of tracings could be due to (1) creating @tf.function repeatedly in a loop, (2) passing tensors with different shapes, (3) passing Python objects instead of tensors. For (1), please define your @tf.function outside of the loop. For (2), @tf.function has reduce_retracing=True option that can avoid unnecessary retracing. For (3), please refer to https://www.tensorflow.org/guide/function#controlling_retracing and https://www.tensorflow.org/api_docs/python/tf/function for  more details.\n",
            "WARNING:tensorflow:6 out of the last 6 calls to <function train_step at 0x7fdba6925da0> triggered tf.function retracing. Tracing is expensive and the excessive number of tracings could be due to (1) creating @tf.function repeatedly in a loop, (2) passing tensors with different shapes, (3) passing Python objects instead of tensors. For (1), please define your @tf.function outside of the loop. For (2), @tf.function has reduce_retracing=True option that can avoid unnecessary retracing. For (3), please refer to https://www.tensorflow.org/guide/function#controlling_retracing and https://www.tensorflow.org/api_docs/python/tf/function for  more details.\n",
            "WARNING:tensorflow:5 out of the last 5 calls to <function val_step at 0x7fdba6925d00> triggered tf.function retracing. Tracing is expensive and the excessive number of tracings could be due to (1) creating @tf.function repeatedly in a loop, (2) passing tensors with different shapes, (3) passing Python objects instead of tensors. For (1), please define your @tf.function outside of the loop. For (2), @tf.function has reduce_retracing=True option that can avoid unnecessary retracing. For (3), please refer to https://www.tensorflow.org/guide/function#controlling_retracing and https://www.tensorflow.org/api_docs/python/tf/function for  more details.\n",
            "WARNING:tensorflow:6 out of the last 6 calls to <function val_step at 0x7fdba6925d00> triggered tf.function retracing. Tracing is expensive and the excessive number of tracings could be due to (1) creating @tf.function repeatedly in a loop, (2) passing tensors with different shapes, (3) passing Python objects instead of tensors. For (1), please define your @tf.function outside of the loop. For (2), @tf.function has reduce_retracing=True option that can avoid unnecessary retracing. For (3), please refer to https://www.tensorflow.org/guide/function#controlling_retracing and https://www.tensorflow.org/api_docs/python/tf/function for  more details.\n"
          ]
        },
        {
          "output_type": "stream",
          "name": "stdout",
          "text": [
            "Epoch 1/20: train_loss=187.4537, val_loss=136.6168\n",
            "           val_CER=1.0000, val_WER=1.0000\n",
            "Epoch 2/20: train_loss=134.9639, val_loss=134.5904\n",
            "           val_CER=0.9999, val_WER=1.0000\n",
            "Epoch 3/20: train_loss=124.7113, val_loss=106.9034\n",
            "           val_CER=0.8450, val_WER=0.9816\n",
            "Epoch 4/20: train_loss=91.5998, val_loss=77.1555\n",
            "           val_CER=0.5367, val_WER=0.8688\n",
            "Epoch 5/20: train_loss=62.2739, val_loss=56.7482\n",
            "           val_CER=0.3769, val_WER=0.7594\n",
            "Epoch 6/20: train_loss=46.3814, val_loss=45.1861\n",
            "           val_CER=0.3001, val_WER=0.6801\n",
            "Epoch 7/20: train_loss=36.5467, val_loss=38.9573\n",
            "           val_CER=0.2641, val_WER=0.6294\n",
            "Epoch 8/20: train_loss=29.7771, val_loss=33.5522\n",
            "           val_CER=0.2197, val_WER=0.5635\n",
            "Epoch 9/20: train_loss=24.6069, val_loss=31.2112\n",
            "           val_CER=0.2096, val_WER=0.5507\n",
            "Epoch 10/20: train_loss=20.6157, val_loss=30.2988\n",
            "           val_CER=0.1997, val_WER=0.5436\n",
            "Epoch 11/20: train_loss=17.1900, val_loss=27.8409\n",
            "           val_CER=0.1858, val_WER=0.5150\n",
            "Epoch 12/20: train_loss=14.3265, val_loss=26.6049\n",
            "           val_CER=0.1712, val_WER=0.4879\n",
            "Epoch 13/20: train_loss=11.7857, val_loss=26.6773\n",
            "           val_CER=0.1686, val_WER=0.4955\n",
            "Epoch 14/20: train_loss=9.5220, val_loss=26.5025\n",
            "           val_CER=0.1648, val_WER=0.4799\n",
            "Epoch 15/20: train_loss=7.7562, val_loss=26.2002\n",
            "           val_CER=0.1582, val_WER=0.4666\n",
            "Epoch 16/20: train_loss=6.1586, val_loss=27.3794\n",
            "           val_CER=0.1605, val_WER=0.4608\n",
            "Epoch 17/20: train_loss=4.8999, val_loss=27.9331\n",
            "           val_CER=0.1619, val_WER=0.4584\n",
            "Epoch 18/20: train_loss=3.9414, val_loss=28.7446\n",
            "           val_CER=0.1595, val_WER=0.4659\n",
            "Epoch 19/20: train_loss=3.1455, val_loss=29.4397\n",
            "           val_CER=0.1590, val_WER=0.4581\n",
            "Epoch 20/20: train_loss=2.6511, val_loss=29.8109\n",
            "           val_CER=0.1583, val_WER=0.4545\n"
          ]
        }
      ]
    },
    {
      "cell_type": "code",
      "source": [
        "# Load model from saved models\n",
        "# DO NOT EXECUTE THIS CODE BLOCK if you do not have a saved model\n",
        "latest_model_file = \"model_03.keras\"\n",
        "latest_model_path = os.path.join(MODEL_DIR, latest_model_file)\n",
        "\n",
        "model = load_model(latest_model_path)"
      ],
      "metadata": {
        "id": "EvfuiLTS8EBv"
      },
      "execution_count": null,
      "outputs": []
    },
    {
      "cell_type": "markdown",
      "source": [
        "### Plotting Training and Validation losses"
      ],
      "metadata": {
        "id": "R8lH6xZvulH3"
      }
    },
    {
      "cell_type": "code",
      "source": [
        "# Training & Validation Loss graph\n",
        "plt.figure(figsize=(8,4))\n",
        "plt.plot(train_losses, label='train loss')\n",
        "plt.plot(val_losses,   label='val loss')\n",
        "plt.xlabel('Epoch')\n",
        "plt.ylabel('CTC Loss')\n",
        "plt.xticks(np.arange(0, 21, 1), np.arange(1, 22, 1))\n",
        "plt.legend()\n",
        "plt.title('Training & Validation Loss')\n",
        "plt.show()\n",
        "\n",
        "# Validation CER / WER\n",
        "plt.figure(figsize=(8,4))\n",
        "plt.plot(cer_vals, label='val CER')\n",
        "plt.plot(wer_vals, label='val WER')\n",
        "plt.xlabel('Epoch')\n",
        "plt.ylabel('Error rate')\n",
        "plt.xticks(np.arange(0, 21, 1), np.arange(1, 22, 1))\n",
        "plt.legend()\n",
        "plt.title('Validation CER / WER')\n",
        "plt.show()"
      ],
      "metadata": {
        "colab": {
          "base_uri": "https://localhost:8080/",
          "height": 803
        },
        "id": "P78tDJaKuz9T",
        "outputId": "fa65ddb0-12a6-4cd5-82c9-94bab0d00d5c"
      },
      "execution_count": null,
      "outputs": [
        {
          "output_type": "display_data",
          "data": {
            "text/plain": [
              "<Figure size 800x400 with 1 Axes>"
            ],
            "image/png": "[encoded data removed]"
          },
          "metadata": {}
        },
        {
          "output_type": "display_data",
          "data": {
            "text/plain": [
              "<Figure size 800x400 with 1 Axes>"
            ],
            "image/png": "[encoded data removed]"
          },
          "metadata": {}
        }
      ]
    },
    {
      "cell_type": "markdown",
      "source": [
        "### Inference and Prediction"
      ],
      "metadata": {
        "id": "Y2tIAv20vFOA"
      }
    },
    {
      "cell_type": "code",
      "source": [
        "sample_img = filenames[175]\n",
        "ground_truth = texts[175]\n",
        "prediction = predict_image(model, sample_img)\n",
        "\n",
        "print(\"GT:  \", ground_truth)\n",
        "print(\"Pred:\", prediction)\n",
        "print(\"CER:\", cer(ground_truth, prediction))\n",
        "print(\"WER:\", wer(ground_truth, prediction))"
      ],
      "metadata": {
        "colab": {
          "base_uri": "https://localhost:8080/"
        },
        "id": "xODvo4wPvKrK",
        "outputId": "ff8d4a82-0403-487e-b307-b817169b3d21"
      },
      "execution_count": null,
      "outputs": [
        {
          "output_type": "stream",
          "name": "stdout",
          "text": [
            "GT:   crushing our soul \" ( see Hab. 2 , 10-11 ) . And it is\n",
            "Pred: crushing our soul ( see Hab. 2 , 10-11 ) . And it is\n",
            "CER: 0.037037037037037035\n",
            "WER: 0.06666666666666667\n"
          ]
        }
      ]
    },
    {
      "cell_type": "code",
      "source": [
        "# Add your own images to the Custom_TEST_DIR folder listed above\n",
        "# Then replace the file name in the below variable with your file name\n",
        "test_img_name = \"test_01.jpg\"\n",
        "test_img_path = os.path.join(Custom_TEST_DIR, test_img_name)\n",
        "print(\"Pred:\", predict_image(model, test_img_path))"
      ],
      "metadata": {
        "colab": {
          "base_uri": "https://localhost:8080/"
        },
        "id": "N5vTzIKy7KPh",
        "outputId": "7e9cb73e-6abd-41e9-dcad-fc6499042dbd"
      },
      "execution_count": null,
      "outputs": [
        {
          "output_type": "stream",
          "name": "stdout",
          "text": [
            "Pred: This is the finst test sentence .\n"
          ]
        }
      ]
    }
  ]
}